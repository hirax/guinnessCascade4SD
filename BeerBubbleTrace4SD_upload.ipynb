{
 "cells": [
  {
   "cell_type": "code",
   "execution_count": 2,
   "metadata": {},
   "outputs": [],
   "source": [
    "import matplotlib.pyplot as plt\n",
    "import numpy as np\n",
    "import cv2\n",
    "\n",
    "# %matplotlib notebook # for inttmeeractive plotting\n",
    "%matplotlib inline"
   ]
  },
  {
   "cell_type": "code",
   "execution_count": 16,
   "metadata": {},
   "outputs": [],
   "source": [
    "filePath = '/Users/jun/Downloads/1111.mov'\n",
    "\n",
    "cap = cv2.VideoCapture( filePath )\n",
    "i = 0\n",
    "n = 20\n",
    "while( cap.isOpened() ):\n",
    "    ret, frame = cap.read()\n",
    "    if ret:\n",
    "        if i == 0:\n",
    "            prvs = frame[:, :, 2]                   # 現在のフレームを格納\n",
    "            # Optical flow の着色可視化用\n",
    "            hsv = np.zeros_like( frame ); hsv[...,1] = 255\n",
    "            # 処理結果を保存するための動画ファイル\n",
    "            fourcc = cv2.VideoWriter_fourcc(*'MJPG')\n",
    "            # サイズ指定で、openCV のサイズ指定はy,xであることに注意\n",
    "            out = cv2.VideoWriter( '/Users/jun/Downloads/short.avi', fourcc, 30, prvs.shape[::-1] )\n",
    "            \n",
    "            # 速度場を描くために X,Y座標群を作る（サンプリングは表示時に行う）\n",
    "            # (右辺座標規約はopenCVに従う、左辺はmatplotlib)\n",
    "            Y, X = np.meshgrid( np.arange( 0, frame.shape[0] ),  # Y, X とすることに注意\n",
    "                                            np.arange( 0, frame.shape[1] ) )\n",
    "        else:\n",
    "            next = frame[:, :, 0]                              # フレーム取得\n",
    "            flow = cv2.calcOpticalFlowFarneback( # optical flow 算出 \n",
    "                prvs, next, None, 0.5, 3, 15, 3, 5, 1.2, 0)\n",
    "            prvs = next\n",
    "            \n",
    "            # Optical flow の着色可視化用\n",
    "            mag, ang = cv2.cartToPolar( flow[...,0], flow[...,1] )\n",
    "            hsv[..., 0] = ang * 180/np.pi/2\n",
    "            hsv[..., 2] = cv2.normalize( mag, None, 0, 255, cv2.NORM_MINMAX )\n",
    "            rgb = cv2.cvtColor( hsv, cv2.COLOR_HSV2BGR )\n",
    "            # 速度場 (右辺座標規約はopenCVに従う、左辺はmatplotlib)\n",
    "            dx = flow[...,0]\n",
    "            dy = flow[...,1]\n",
    "            \n",
    "            fig = plt.figure( figsize = prvs.shape[::-1], dpi=1 )\n",
    "            ax = fig.gca()\n",
    "            ax.axis('off')\n",
    "            plt.subplots_adjust(left=0, right=1, bottom=0, top=1)\n",
    "\n",
    "            # matplotlib 座標でグラフを描画 \n",
    "            plt.quiver( X[::n, ::n], Y[::n, ::n],    # ベクトル基点\n",
    "                            dx[::n, ::n], -dy[::n, ::n]  #,\n",
    "                            # np.sqrt( dx[::n, ::n]**2 + dy[::n, ::n]**2 ),\n",
    "                            # units=\"xy\", scale=0.0001, cmap=\"hot_r\"\n",
    "            )\n",
    "            \n",
    "            fig.canvas.draw() # https://stackoverflow.com/questions/51059581/matplotlib-convert-plot-to-numpy-array-without-borders\n",
    "            image = np.array( fig.canvas.renderer._renderer )            \n",
    "            plt.close(fig)\n",
    "            # 動画としても保存しておく\n",
    "            rgb = cv2.addWeighted( rgb, 0.5, frame, 0.5, 1.0)\n",
    "            #rgb = cv2.addWeighted( rgb, 0.8, image[...,0:3], 0.2, 1.0)\n",
    "            rgb = cv2.bitwise_xor( rgb, image[...,0:3])\n",
    "            out.write( rgb )\n",
    "        i +=1\n",
    "    else:\n",
    "        cap.release(); out.release() # 入力動画・出力動画ともに閉じる\n",
    "        break"
   ]
  },
  {
   "cell_type": "code",
   "execution_count": null,
   "metadata": {},
   "outputs": [],
   "source": []
  },
  {
   "cell_type": "code",
   "execution_count": null,
   "metadata": {},
   "outputs": [],
   "source": []
  }
 ],
 "metadata": {
  "kernelspec": {
   "display_name": "Python 3",
   "language": "python",
   "name": "python3"
  },
  "language_info": {
   "codemirror_mode": {
    "name": "ipython",
    "version": 3
   },
   "file_extension": ".py",
   "mimetype": "text/x-python",
   "name": "python",
   "nbconvert_exporter": "python",
   "pygments_lexer": "ipython3",
   "version": "3.5.5"
  }
 },
 "nbformat": 4,
 "nbformat_minor": 2
}
